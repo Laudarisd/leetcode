{
 "cells": [
  {
   "cell_type": "code",
   "execution_count": 2,
   "metadata": {},
   "outputs": [],
   "source": [
    "from typing import List\n",
    "\n",
    "\n",
    "class Solutions:\n",
    "    def FindMissingNumber(self, nums:List[int]) -> List[int]:\n",
    "        pass"
   ]
  },
  {
   "cell_type": "code",
   "execution_count": 4,
   "metadata": {},
   "outputs": [
    {
     "name": "stdout",
     "output_type": "stream",
     "text": [
      "[(0, 1), (2, 3)]\n"
     ]
    }
   ],
   "source": [
    "from typing import List, Tuple\n",
    "\n",
    "class Solutions:\n",
    "    def find_adjacent_pairs(self, nums: List[int], target: int) -> List[Tuple[int, int]]:\n",
    "        result = []\n",
    "    \n",
    "        for i in range(len(nums) - 1):\n",
    "            if nums[i] + nums[i + 1] == target:\n",
    "                result.append((i, i + 1))\n",
    "    \n",
    "        return result\n",
    "\n",
    "# Example usage:\n",
    "S = Solutions()\n",
    "nums = [1, 2, 2, 1, 5]\n",
    "target = 3\n",
    "print(S.find_adjacent_pairs(nums, target))  # Output: [(1, 2)]\n"
   ]
  },
  {
   "cell_type": "code",
   "execution_count": 16,
   "metadata": {},
   "outputs": [
    {
     "name": "stdout",
     "output_type": "stream",
     "text": [
      "l\n",
      "e\n",
      "e\n",
      "e\n",
      "t\n",
      "c\n",
      "o\n",
      "d\n",
      "e\n",
      "leetcode\n"
     ]
    }
   ],
   "source": [
    "from typing import List\n",
    "\n",
    "class Solution:\n",
    "    def makeFancyString(self, s: str) -> str:\n",
    "        result = []\n",
    "        for char in s:\n",
    "            print(char)\n",
    "            if len(result) < 2 or result[-1] != char or result[-2] != char:\n",
    "                result.append(char)\n",
    "        print(''.join(result))\n",
    "\n",
    "        return ''.join(result)\n",
    "            \n",
    "\n",
    "\n",
    "\n",
    "\n",
    "\n",
    "if __name__ == \"__main__\":\n",
    "    S = Solution()\n",
    "    S.makeFancyString(\"leeetcode\")"
   ]
  },
  {
   "cell_type": "code",
   "execution_count": null,
   "metadata": {},
   "outputs": [],
   "source": []
  }
 ],
 "metadata": {
  "kernelspec": {
   "display_name": "Python 3",
   "language": "python",
   "name": "python3"
  },
  "language_info": {
   "codemirror_mode": {
    "name": "ipython",
    "version": 3
   },
   "file_extension": ".py",
   "mimetype": "text/x-python",
   "name": "python",
   "nbconvert_exporter": "python",
   "pygments_lexer": "ipython3",
   "version": "3.11.9"
  }
 },
 "nbformat": 4,
 "nbformat_minor": 2
}
